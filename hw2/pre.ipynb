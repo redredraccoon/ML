{
 "cells": [
  {
   "cell_type": "code",
   "execution_count": 1,
   "metadata": {},
   "outputs": [],
   "source": [
    "import tarfile\n",
    "import scipy.io\n",
    "import numpy as np\n",
    "import os\n",
    "import cv2 as cv\n",
    "import shutil\n",
    "import random"
   ]
  },
  {
   "cell_type": "code",
   "execution_count": 2,
   "metadata": {},
   "outputs": [],
   "source": [
    "def ensure_folder(folder):\n",
    "    if not os.path.exists(folder):\n",
    "        os.makedirs(folder)\n"
   ]
  },
  {
   "cell_type": "code",
   "execution_count": 3,
   "metadata": {},
   "outputs": [
    {
     "name": "stdout",
     "output_type": "stream",
     "text": [
      "Extracting cars_train.tgz...\n",
      "Extracting cars_test.tgz...\n",
      "Extracting car_devkit.tgz...\n",
      "class_names.shape: (196, 1)\n",
      "Sample class_name: [Acura Integra Type R 2001]\n"
     ]
    }
   ],
   "source": [
    "img_width, img_height = 224, 224\n",
    "\n",
    "print('Extracting cars_train.tgz...')\n",
    "if not os.path.exists(r'./cars_train'):\n",
    "    with tarfile.open(r'./cars_train.tgz', \"r:gz\") as tar:\n",
    "        tar.extractall()\n",
    "print('Extracting cars_test.tgz...')\n",
    "if not os.path.exists(r'./cars_test'):\n",
    "    with tarfile.open(r'./cars_test.tgz', \"r:gz\") as tar:\n",
    "        tar.extractall()\n",
    "print('Extracting car_devkit.tgz...')\n",
    "if not os.path.exists(r'./devkit'):\n",
    "    with tarfile.open(r'./car_devkit.tgz', \"r:gz\") as tar:\n",
    "        tar.extractall()\n",
    "\n",
    "cars_meta = scipy.io.loadmat(r'./devkit/cars_meta')\n",
    "class_names = cars_meta['class_names']  # shape=(1, 196)\n",
    "class_names = np.transpose(class_names) # shape=(196, 1)\n",
    "print('class_names.shape: ' + str(class_names.shape))\n",
    "print('Sample class_name: [{}]'.format(class_names[5][0][0]))\n",
    "\n",
    "ensure_folder(r'./new/train')\n",
    "ensure_folder(r'./new/test')"
   ]
  },
  {
   "cell_type": "code",
   "execution_count": 4,
   "metadata": {},
   "outputs": [],
   "source": [
    "def process_train_data():\n",
    "    print(\"Processing train data...\")\n",
    "    cars_annos = scipy.io.loadmat(r'./devkit/cars_train_annos')\n",
    "    annotations = cars_annos['annotations']\n",
    "    annotations = np.transpose(annotations)\n",
    "\n",
    "    fnames = []\n",
    "    class_ids = []\n",
    "    bboxes = []\n",
    "    labels = []\n",
    "\n",
    "    for annotation in annotations:\n",
    "        bbox_x1 = annotation[0][0][0][0]\n",
    "        bbox_y1 = annotation[0][1][0][0]\n",
    "        bbox_x2 = annotation[0][2][0][0]\n",
    "        bbox_y2 = annotation[0][3][0][0]\n",
    "        class_id = annotation[0][4][0][0]\n",
    "        labels.append('%04d' % (class_id,))\n",
    "        fname = annotation[0][5][0]\n",
    "        bboxes.append((bbox_x1, bbox_y1, bbox_x2, bbox_y2))\n",
    "        class_ids.append(class_id)\n",
    "        fnames.append(fname)\n",
    "\n",
    "    labels_count = np.unique(class_ids).shape[0]\n",
    "    print(np.unique(class_ids))\n",
    "    print('The number of different cars is %d' % labels_count)\n",
    "\n",
    "    save_train_data(fnames, labels, bboxes)\n"
   ]
  },
  {
   "cell_type": "code",
   "execution_count": 5,
   "metadata": {},
   "outputs": [],
   "source": [
    "def save_train_data(fnames, labels, bboxes):\n",
    "    src_folder = './cars_train'\n",
    "    num_samples = len(fnames)\n",
    "\n",
    "    for i in range(num_samples):\n",
    "        fname = fnames[i]\n",
    "        label = labels[i]\n",
    "        (x1, y1, x2, y2) = bboxes[i]\n",
    "\n",
    "        src_path = os.path.join(src_folder, fname)\n",
    "        src_image = cv.imread(src_path)\n",
    "        height, width = src_image.shape[:2]\n",
    "        # margins of 16 pixels\n",
    "        margin = 16\n",
    "        x1 = max(0, x1 - margin)\n",
    "        y1 = max(0, y1 - margin)\n",
    "        x2 = min(x2 + margin, width)\n",
    "        y2 = min(y2 + margin, height)\n",
    "        \n",
    "        dst_folder = './new/train/'\n",
    "        dst_path = os.path.join(dst_folder, label)\n",
    "        if not os.path.exists(dst_path):\n",
    "            os.makedirs(dst_path)\n",
    "        dst_path = os.path.join(dst_path, fname)\n",
    "\n",
    "        crop_image = src_image[y1:y2, x1:x2]\n",
    "        dst_img = cv.resize(src=crop_image, dsize=(img_height, img_width))\n",
    "        cv.imwrite(dst_path, dst_img)"
   ]
  },
  {
   "cell_type": "code",
   "execution_count": 6,
   "metadata": {},
   "outputs": [
    {
     "name": "stdout",
     "output_type": "stream",
     "text": [
      "Processing train data...\n",
      "[  1   2   3   4   5   6   7   8   9  10  11  12  13  14  15  16  17  18\n",
      "  19  20  21  22  23  24  25  26  27  28  29  30  31  32  33  34  35  36\n",
      "  37  38  39  40  41  42  43  44  45  46  47  48  49  50  51  52  53  54\n",
      "  55  56  57  58  59  60  61  62  63  64  65  66  67  68  69  70  71  72\n",
      "  73  74  75  76  77  78  79  80  81  82  83  84  85  86  87  88  89  90\n",
      "  91  92  93  94  95  96  97  98  99 100 101 102 103 104 105 106 107 108\n",
      " 109 110 111 112 113 114 115 116 117 118 119 120 121 122 123 124 125 126\n",
      " 127 128 129 130 131 132 133 134 135 136 137 138 139 140 141 142 143 144\n",
      " 145 146 147 148 149 150 151 152 153 154 155 156 157 158 159 160 161 162\n",
      " 163 164 165 166 167 168 169 170 171 172 173 174 175 176 177 178 179 180\n",
      " 181 182 183 184 185 186 187 188 189 190 191 192 193 194 195 196]\n",
      "The number of different cars is 196\n"
     ]
    }
   ],
   "source": [
    "process_train_data()"
   ]
  },
  {
   "cell_type": "code",
   "execution_count": 7,
   "metadata": {},
   "outputs": [],
   "source": [
    "def process_test_data():\n",
    "    print(\"Processing test data...\")\n",
    "    cars_annos = scipy.io.loadmat(r'./devkit/cars_test_annos_withlabels')\n",
    "    annotations = cars_annos['annotations']\n",
    "    annotations = np.transpose(annotations)\n",
    "\n",
    "    fnames = []\n",
    "    class_ids = []\n",
    "    bboxes = []\n",
    "    labels = []\n",
    "\n",
    "    for annotation in annotations:\n",
    "        bbox_x1 = annotation[0][0][0][0]\n",
    "        bbox_y1 = annotation[0][1][0][0]\n",
    "        bbox_x2 = annotation[0][2][0][0]\n",
    "        bbox_y2 = annotation[0][3][0][0]\n",
    "        class_id = annotation[0][4][0][0]\n",
    "        labels.append('%04d' % (class_id,))\n",
    "        fname = annotation[0][5][0]\n",
    "        bboxes.append((bbox_x1, bbox_y1, bbox_x2, bbox_y2))\n",
    "        class_ids.append(class_id)\n",
    "        fnames.append(fname)\n",
    "\n",
    "    labels_count = np.unique(class_ids).shape[0]\n",
    "    print(np.unique(class_ids))\n",
    "    print('The number of different cars is %d' % labels_count)\n",
    "\n",
    "    save_train_data(fnames, labels, bboxes)\n"
   ]
  },
  {
   "cell_type": "code",
   "execution_count": 8,
   "metadata": {},
   "outputs": [],
   "source": [
    "def save_train_data(fnames, labels, bboxes):\n",
    "    src_folder = './cars_test'\n",
    "    num_samples = len(fnames)\n",
    "\n",
    "    for i in range(num_samples):\n",
    "        fname = fnames[i]\n",
    "        label = labels[i]\n",
    "        (x1, y1, x2, y2) = bboxes[i]\n",
    "\n",
    "        src_path = os.path.join(src_folder, fname)\n",
    "        src_image = cv.imread(src_path)\n",
    "        height, width = src_image.shape[:2]\n",
    "        # margins of 16 pixels\n",
    "        margin = 16\n",
    "        x1 = max(0, x1 - margin)\n",
    "        y1 = max(0, y1 - margin)\n",
    "        x2 = min(x2 + margin, width)\n",
    "        y2 = min(y2 + margin, height)\n",
    "        \n",
    "        dst_folder = './new/test/'\n",
    "        dst_path = os.path.join(dst_folder, label)\n",
    "        if not os.path.exists(dst_path):\n",
    "            os.makedirs(dst_path)\n",
    "        dst_path = os.path.join(dst_path, fname)\n",
    "\n",
    "        crop_image = src_image[y1:y2, x1:x2]\n",
    "        dst_img = cv.resize(src=crop_image, dsize=(img_height, img_width))\n",
    "        cv.imwrite(dst_path, dst_img)"
   ]
  },
  {
   "cell_type": "code",
   "execution_count": 9,
   "metadata": {},
   "outputs": [
    {
     "name": "stdout",
     "output_type": "stream",
     "text": [
      "Processing test data...\n",
      "[  1   2   3   4   5   6   7   8   9  10  11  12  13  14  15  16  17  18\n",
      "  19  20  21  22  23  24  25  26  27  28  29  30  31  32  33  34  35  36\n",
      "  37  38  39  40  41  42  43  44  45  46  47  48  49  50  51  52  53  54\n",
      "  55  56  57  58  59  60  61  62  63  64  65  66  67  68  69  70  71  72\n",
      "  73  74  75  76  77  78  79  80  81  82  83  84  85  86  87  88  89  90\n",
      "  91  92  93  94  95  96  97  98  99 100 101 102 103 104 105 106 107 108\n",
      " 109 110 111 112 113 114 115 116 117 118 119 120 121 122 123 124 125 126\n",
      " 127 128 129 130 131 132 133 134 135 136 137 138 139 140 141 142 143 144\n",
      " 145 146 147 148 149 150 151 152 153 154 155 156 157 158 159 160 161 162\n",
      " 163 164 165 166 167 168 169 170 171 172 173 174 175 176 177 178 179 180\n",
      " 181 182 183 184 185 186 187 188 189 190 191 192 193 194 195 196]\n",
      "The number of different cars is 196\n"
     ]
    }
   ],
   "source": [
    "process_test_data()"
   ]
  },
  {
   "cell_type": "code",
   "execution_count": null,
   "metadata": {},
   "outputs": [],
   "source": []
  }
 ],
 "metadata": {
  "kernelspec": {
   "display_name": "Python 3",
   "language": "python",
   "name": "python3"
  },
  "language_info": {
   "codemirror_mode": {
    "name": "ipython",
    "version": 3
   },
   "file_extension": ".py",
   "mimetype": "text/x-python",
   "name": "python",
   "nbconvert_exporter": "python",
   "pygments_lexer": "ipython3",
   "version": "3.6.8"
  }
 },
 "nbformat": 4,
 "nbformat_minor": 2
}
