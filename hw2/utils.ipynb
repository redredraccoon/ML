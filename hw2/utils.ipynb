{
 "cells": [
  {
   "cell_type": "code",
   "execution_count": null,
   "metadata": {},
   "outputs": [],
   "source": [
    "import argparse\n",
    "\n",
    "\n",
    "def parse_args():\n",
    "    desc = 'PyTorch example code for Kaggle competition -- Plant Seedlings Classification.\\n' \\\n",
    "           'See https://www.kaggle.com/c/plant-seedlings-classification'\n",
    "    parser = argparse.ArgumentParser(description=desc)\n",
    "    parser.add_argument('-p', '--path', help='path to dataset')\n",
    "    parser.add_argument('-w', '--weight', help='path to model weights')\n",
    "    parser.add_argument('-c', '--cuda_devices', type=int, help='path to model weights')\n",
    "    return parser.parse_args()\n"
   ]
  }
 ],
 "metadata": {
  "kernelspec": {
   "display_name": "Python 3",
   "language": "python",
   "name": "python3"
  },
  "language_info": {
   "codemirror_mode": {
    "name": "ipython",
    "version": 3
   },
   "file_extension": ".py",
   "mimetype": "text/x-python",
   "name": "python",
   "nbconvert_exporter": "python",
   "pygments_lexer": "ipython3",
   "version": "3.6.8"
  }
 },
 "nbformat": 4,
 "nbformat_minor": 2
}
