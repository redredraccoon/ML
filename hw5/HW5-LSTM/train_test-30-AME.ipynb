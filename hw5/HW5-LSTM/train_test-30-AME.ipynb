{
 "cells": [
  {
   "cell_type": "code",
   "execution_count": 1,
   "metadata": {},
   "outputs": [],
   "source": [
    "import torch\n",
    "import torch.nn as nn\n",
    "from torch.autograd import Variable\n",
    "from models import test_LSTM\n",
    "from torch.utils.data import DataLoader\n",
    "from torchvision import transforms\n",
    "import pandas as pd\n",
    "from preprocess import data_split,normalize_data\n",
    "import matplotlib.pyplot as plt\n",
    "import numpy as np"
   ]
  },
  {
   "cell_type": "code",
   "execution_count": 2,
   "metadata": {},
   "outputs": [],
   "source": [
    "device = torch.device(\"cuda:1\" if torch.cuda.is_available() else \"cpu\")\n",
    "DATASET_ROOT = './'\n",
    "\n",
    "df = pd.read_csv(\"./prices-split-adjusted.csv\", index_col = 0)\n",
    "\n",
    "STT = df[df.symbol == 'AME'].copy()\n",
    "#print(GOOG)\n",
    "STT.drop(['symbol'],1,inplace=True)\n",
    "STT_new = normalize_data(STT)\n",
    "#print(GOOG_new)"
   ]
  },
  {
   "cell_type": "code",
   "execution_count": 3,
   "metadata": {},
   "outputs": [
    {
     "name": "stderr",
     "output_type": "stream",
     "text": [
      "/home/color/ml_hw5/preprocess.py:15: FutureWarning: Method .as_matrix will be removed in a future version. Use .values instead.\n",
      "  data = stock.as_matrix()\n"
     ]
    }
   ],
   "source": [
    "window = 30\n",
    "X_train, y_train, X_test, y_test = data_split(STT_new, window)\n",
    "\n",
    "INPUT_SIZE = 5\n",
    "HIDDEN_SIZE = 64\n",
    "NUM_LAYERS = 1\n",
    "OUTPUT_SIZE = 1\n",
    "\n",
    "learning_rate = 0.001\n",
    "num_epochs = 50"
   ]
  },
  {
   "cell_type": "code",
   "execution_count": 4,
   "metadata": {},
   "outputs": [
    {
     "data": {
      "text/plain": [
       "test_LSTM(\n",
       "  (lstm): LSTM(5, 64, batch_first=True)\n",
       "  (linear): Linear(in_features=64, out_features=1, bias=True)\n",
       ")"
      ]
     },
     "execution_count": 4,
     "metadata": {},
     "output_type": "execute_result"
    }
   ],
   "source": [
    "rnn = test_LSTM(input_dim=INPUT_SIZE,hidden_dim=HIDDEN_SIZE, num_layers=NUM_LAYERS, output_dim=OUTPUT_SIZE)\n",
    "optimizer = torch.optim.Adam(rnn.parameters(), lr=learning_rate)\n",
    "criterion = nn.MSELoss()\n",
    "\n",
    "rnn.to(device)\n",
    "rnn.train()"
   ]
  },
  {
   "cell_type": "code",
   "execution_count": 5,
   "metadata": {},
   "outputs": [
    {
     "name": "stdout",
     "output_type": "stream",
     "text": [
      "epoch 0, loss 0.0005876161740161479\n",
      "epoch 1, loss 0.0005322322831489146\n",
      "epoch 2, loss 0.0005091106286272407\n",
      "epoch 3, loss 0.000493945146445185\n",
      "epoch 4, loss 0.00048206333303824067\n",
      "epoch 5, loss 0.00047257321421056986\n",
      "epoch 6, loss 0.00046425798791460693\n",
      "epoch 7, loss 0.0004572673642542213\n",
      "epoch 8, loss 0.00044970656745135784\n",
      "epoch 9, loss 0.0004412851994857192\n",
      "epoch 10, loss 0.0004323128378018737\n",
      "epoch 11, loss 0.0004227094759698957\n",
      "epoch 12, loss 0.00041289173532277346\n",
      "epoch 13, loss 0.00040330516640096903\n",
      "epoch 14, loss 0.0003938524750992656\n",
      "epoch 15, loss 0.0003841607249341905\n",
      "epoch 16, loss 0.00037520573823712766\n",
      "epoch 17, loss 0.00036547298077493906\n",
      "epoch 18, loss 0.0003560702898539603\n",
      "epoch 19, loss 0.0003467254573479295\n",
      "epoch 20, loss 0.00033746083499863744\n",
      "epoch 21, loss 0.00032862197258509696\n",
      "epoch 22, loss 0.00031925440998747945\n",
      "epoch 23, loss 0.00031020850292406976\n",
      "epoch 24, loss 0.0003014400426764041\n",
      "epoch 25, loss 0.0002935590164270252\n",
      "epoch 26, loss 0.000285271875327453\n",
      "epoch 27, loss 0.00027681596111506224\n",
      "epoch 28, loss 0.0002685374638531357\n",
      "epoch 29, loss 0.00026046205312013626\n",
      "epoch 30, loss 0.00025266504962928593\n",
      "epoch 31, loss 0.00024518725695088506\n",
      "epoch 32, loss 0.00023775747104082257\n",
      "epoch 33, loss 0.00023058599617797881\n",
      "epoch 34, loss 0.0002236021973658353\n",
      "epoch 35, loss 0.0002168340579373762\n",
      "epoch 36, loss 0.00021031254436820745\n",
      "epoch 37, loss 0.00020398347987793386\n",
      "epoch 38, loss 0.00019790737133007497\n",
      "epoch 39, loss 0.00019221036927774549\n",
      "epoch 40, loss 0.0001869138504844159\n",
      "epoch 41, loss 0.0001822179474402219\n",
      "epoch 42, loss 0.0001779267768142745\n",
      "epoch 43, loss 0.00017420243239030242\n",
      "epoch 44, loss 0.00017088612366933376\n",
      "epoch 45, loss 0.00016790757945273072\n",
      "epoch 46, loss 0.0001651969359954819\n",
      "epoch 47, loss 0.00016268801118712872\n",
      "epoch 48, loss 0.00016035730368457735\n",
      "epoch 49, loss 0.00015816980157978833\n"
     ]
    }
   ],
   "source": [
    "train_loss_list = []\n",
    "epoch_list = []\n",
    "for epoch in range(num_epochs):\n",
    "    for inputs, label in zip(X_train,y_train):\n",
    "        inputs = torch.from_numpy(inputs).float().to(device)\n",
    "        label = torch.from_numpy(np.array(label)).float().to(device)\n",
    "        optimizer.zero_grad()\n",
    "\n",
    "        output =rnn(inputs) # forward   \n",
    "        loss=criterion(output,label) # compute loss\n",
    "        loss.backward() #back propagation\n",
    "        optimizer.step() #update the parameters\n",
    "    print('epoch {}, loss {}'.format(epoch,loss.item()))\n",
    "    train_loss_list.append(loss)\n",
    "    epoch_list.append(epoch+1)\n",
    "# above for train"
   ]
  },
  {
   "cell_type": "code",
   "execution_count": 6,
   "metadata": {},
   "outputs": [
    {
     "data": {
      "image/png": "[encoded data removed]",
      "text/plain": [
       "<Figure size 432x288 with 1 Axes>"
      ]
     },
     "metadata": {
      "needs_background": "light"
     },
     "output_type": "display_data"
    }
   ],
   "source": [
    "plt.plot(epoch_list, train_loss_list, label='train')\n",
    "#plt.plot(test_epoch_list, test_loss_list, label='test')\n",
    "plt.xlabel(\"epoch\")\n",
    "plt.ylabel(\"loss\")\n",
    "#plt.legend(['train','test'], loc='upper right')\n",
    "plt.legend(['train'], loc='upper right')\n",
    "plt.savefig(\"loss.png\",dpi=250,format=\"png\")\n",
    "plt.tight_layout()\n",
    "plt.show()"
   ]
  },
  {
   "cell_type": "code",
   "execution_count": 7,
   "metadata": {},
   "outputs": [],
   "source": [
    "#result = []\n",
    "#with torch.no_grad():\n",
    "#    for inputs, label in zip(X_test,y_test):\n",
    "#        inputs = torch.from_numpy(inputs).float().to(device)\n",
    "#        label = torch.from_numpy(np.array(label)).float().to(device)\n",
    "#        output =rnn(inputs)    \n",
    "#        result.append(output)\n",
    "#result =np.array(result)\n",
    "# above for test"
   ]
  },
  {
   "cell_type": "code",
   "execution_count": 8,
   "metadata": {},
   "outputs": [
    {
     "name": "stdout",
     "output_type": "stream",
     "text": [
      "0.0017232856556881105\n"
     ]
    }
   ],
   "source": [
    "result = []\n",
    "testing_corrects = 0\n",
    "test_acc_list = [] \n",
    "test_epoch_list = []\n",
    "valid_loss = 0\n",
    "\n",
    "with torch.no_grad():\n",
    "    for inputs, label in zip(X_test,y_test):\n",
    "        inputs = torch.from_numpy(inputs).float().to(device)\n",
    "        label = torch.from_numpy(np.array(label)).float().to(device)\n",
    "        #print(label.item())\n",
    "            \n",
    "        output =rnn(inputs)\n",
    "        #print(output.item())\n",
    "        #loss=criterion(output,label)\n",
    "        #testing_acc = 1 - loss\n",
    "        #test\n",
    "        s = torch.sub(output.item(), label.item())\n",
    "        s = s.pow(2)\n",
    "        #print(s)\n",
    "        testing_acc = 1 - s\n",
    "        test_acc_list.append(testing_acc)\n",
    "        valid_loss += s\n",
    "        \n",
    "        result.append(output)\n",
    "\n",
    "result =np.array(result)\n",
    "print(valid_loss.item()/len(y_test))\n",
    "\n",
    "# above for test"
   ]
  },
  {
   "cell_type": "code",
   "execution_count": 9,
   "metadata": {},
   "outputs": [
    {
     "data": {
      "image/png": "[encoded data removed]",
      "text/plain": [
       "<Figure size 432x288 with 1 Axes>"
      ]
     },
     "metadata": {
      "needs_background": "light"
     },
     "output_type": "display_data"
    }
   ],
   "source": [
    "plt.plot(test_acc_list, label='test')\n",
    "#plt.plot(test_epoch_list, test_loss_list, label='test')\n",
    "plt.xlabel(\"epoch\")\n",
    "plt.ylabel(\"accuracy\")\n",
    "#plt.legend(['train','test'], loc='upper right')\n",
    "plt.legend(['test'], loc='upper right')\n",
    "#plt.savefig(\"loss.png\",dpi=250,format=\"png\")\n",
    "#plt.tight_layout()\n",
    "plt.show()"
   ]
  },
  {
   "cell_type": "code",
   "execution_count": 10,
   "metadata": {},
   "outputs": [
    {
     "name": "stdout",
     "output_type": "stream",
     "text": [
      "(1471, 30, 5) (1471,) (260, 30, 5) (260,)\n"
     ]
    },
    {
     "data": {
      "image/png": "[encoded data removed]",
      "text/plain": [
       "<Figure size 432x288 with 1 Axes>"
      ]
     },
     "metadata": {
      "needs_background": "light"
     },
     "output_type": "display_data"
    }
   ],
   "source": [
    "#plt.plot(result,color='red', label='Prediction')\n",
    "#plt.plot(y_test,color='blue', label='Actual')\n",
    "#plt.legend(loc='best')\n",
    "#plt.show()\n",
    "print (X_train.shape, y_train.shape,X_test.shape,y_test.shape)\n",
    "\n",
    "plt.plot(result, label='Prediction')\n",
    "plt.plot(y_test, label='Actual')\n",
    "#plt.xlabel(\"epoch\")\n",
    "#plt.ylabel(\"loss\")\n",
    "plt.legend(['Prediction','Actual'], loc='upper right')\n",
    "#plt.savefig(\"loss.png\",dpi=250,format=\"png\")\n",
    "#plt.tight_layout()\n",
    "plt.show()"
   ]
  },
  {
   "cell_type": "code",
   "execution_count": null,
   "metadata": {},
   "outputs": [],
   "source": []
  }
 ],
 "metadata": {
  "kernelspec": {
   "display_name": "Python 3",
   "language": "python",
   "name": "python3"
  },
  "language_info": {
   "codemirror_mode": {
    "name": "ipython",
    "version": 3
   },
   "file_extension": ".py",
   "mimetype": "text/x-python",
   "name": "python",
   "nbconvert_exporter": "python",
   "pygments_lexer": "ipython3",
   "version": "3.6.8"
  }
 },
 "nbformat": 4,
 "nbformat_minor": 2
}
